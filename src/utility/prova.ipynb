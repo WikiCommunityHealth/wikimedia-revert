{
 "metadata": {
  "language_info": {
   "codemirror_mode": {
    "name": "ipython",
    "version": 3
   },
   "file_extension": ".py",
   "mimetype": "text/x-python",
   "name": "python",
   "nbconvert_exporter": "python",
   "pygments_lexer": "ipython3",
   "version": "3.9.0"
  },
  "orig_nbformat": 2,
  "kernelspec": {
   "name": "python390jvsc74a57bd0e8e6fe654555dddfb4ff1ef9093ef8e9ac46253b6e9f481f2b2abe24aaf64947",
   "display_name": "Python 3.9.0 64-bit ('env-wiki': pyenv)"
  }
 },
 "nbformat": 4,
 "nbformat_minor": 2,
 "cells": [
  {
   "cell_type": "code",
   "execution_count": null,
   "metadata": {},
   "outputs": [],
   "source": [
    "ciao"
   ]
  },
  {
   "cell_type": "code",
   "execution_count": 1,
   "metadata": {},
   "outputs": [],
   "source": [
    "import pandas as pd\n",
    "file1 = \"/home/gandelli/dev/data/test/mutualtest.tsv\"\n",
    "file2 =\"/home/gandelli/dev/data/test/revertest.tsv\""
   ]
  },
  {
   "cell_type": "code",
   "execution_count": 10,
   "metadata": {},
   "outputs": [],
   "source": [
    "mut_df = pd.read_csv(file1, sep=',')\n",
    "rev_df = pd.read_csv(file2, sep=',')"
   ]
  },
  {
   "cell_type": "code",
   "execution_count": 15,
   "metadata": {},
   "outputs": [],
   "source": [
    "merged_df = rev_df.merge(mut_df, on=['880551', 'Simbolo_di_copyright','2012-03'], how='left').fillna(0).reset_index()\n"
   ]
  },
  {
   "cell_type": "code",
   "execution_count": 16,
   "metadata": {},
   "outputs": [
    {
     "output_type": "execute_result",
     "data": {
      "text/plain": [
       "    index   880551        Simbolo_di_copyright  2012-03  0_x  0.1_x  0.2_x  \\\n",
       "0       0  2166179          Simbolo_di_marchio  2016-01    0      0      0   \n",
       "1       1  2166179          Simbolo_di_marchio  2016-09    0      0      0   \n",
       "2       2  2166179          Simbolo_di_marchio  2016-11    0      0      0   \n",
       "3       3  2166179          Simbolo_di_marchio  2017-04    0      0      0   \n",
       "4       4  2166179          Simbolo_di_marchio  2017-05    0      0      0   \n",
       "5       5  2166179          Simbolo_di_marchio  2017-12    0      0      0   \n",
       "6       6  2166179          Simbolo_di_marchio  2018-03    0      0      0   \n",
       "7       7  2166179          Simbolo_di_marchio  2018-07    0      0      0   \n",
       "8       8  2166179          Simbolo_di_marchio  2019-07    0      0      0   \n",
       "9       9  2166179          Simbolo_di_marchio  2019-10    0      0      0   \n",
       "10     10   105152          Chiocciola_(segno)  2005-10    0      0      0   \n",
       "11     11   105152          Chiocciola_(segno)  2005-12    0      0      0   \n",
       "12     12   105152          Chiocciola_(segno)  2006-10    0      0      0   \n",
       "13     13   105152          Chiocciola_(segno)  2006-11    0      0      0   \n",
       "14     14   105152          Chiocciola_(segno)  2007-03    0      0      0   \n",
       "15     15   105152          Chiocciola_(segno)  2008-06    0      0      0   \n",
       "16     16   105152          Chiocciola_(segno)  2008-09    0      0      0   \n",
       "17     17   105152          Chiocciola_(segno)  2009-01    0      0      0   \n",
       "18     18   105152          Chiocciola_(segno)  2009-02    0      0      0   \n",
       "19     19   105152          Chiocciola_(segno)  2009-07    0      0      0   \n",
       "20     20   105152          Chiocciola_(segno)  2009-09    0      0      0   \n",
       "21     21   105152          Chiocciola_(segno)  2010-01    0      0      0   \n",
       "22     22   105152          Chiocciola_(segno)  2010-02    0      0      0   \n",
       "23     23   105152          Chiocciola_(segno)  2010-03    0      0      0   \n",
       "24     24   105152          Chiocciola_(segno)  2010-09    0      0      0   \n",
       "25     25   105152          Chiocciola_(segno)  2010-12    0      0      0   \n",
       "26     26   105152          Chiocciola_(segno)  2011-02    0      0      0   \n",
       "27     27   105152          Chiocciola_(segno)  2011-11    0      0      0   \n",
       "28     28   105152          Chiocciola_(segno)  2012-01    0      0      0   \n",
       "29     29   105152          Chiocciola_(segno)  2012-04    0      0      0   \n",
       "30     30   105152          Chiocciola_(segno)  2012-06    0      0      0   \n",
       "31     31   105152          Chiocciola_(segno)  2012-11    0      0      0   \n",
       "32     32   105152          Chiocciola_(segno)  2013-05    0      0      0   \n",
       "33     33   105152          Chiocciola_(segno)  2014-01    0      0      0   \n",
       "34     34   105152          Chiocciola_(segno)  2014-07    0      0      0   \n",
       "35     35   105152          Chiocciola_(segno)  2014-08    0      1      0   \n",
       "36     36   105152          Chiocciola_(segno)  2014-12    0      1      0   \n",
       "37     37   105152          Chiocciola_(segno)  2015-02    0      1      0   \n",
       "38     38   105152          Chiocciola_(segno)  2016-03    0      1      0   \n",
       "39     39  8346468                       @@@@@  2020-05    0      0      0   \n",
       "40     40  1204430  Simbolo_generico_di_valuta  2007-11    0      0      0   \n",
       "41     41   540650                           $  2019-10    0      0      0   \n",
       "42     42   581877                           ¥  2007-04    0      0      0   \n",
       "43     43   581877                           ¥  2013-06    0      0      0   \n",
       "44     44  4083617                         ***  2018-05    0      0      0   \n",
       "45     45  4083617                         ***  2020-01    0      0      0   \n",
       "46     46  4083617                         ***  2020-10    0      0      0   \n",
       "47     47  2905387                           \\  2015-02    0      0      0   \n",
       "48     48  2905387                           \\  2020-02    0      0      0   \n",
       "49     49   558194                           +  2006-08    0      0      0   \n",
       "50     50   558194                           +  2014-09    0      0      0   \n",
       "51     51  1397121                           Ʃ  2008-08    0      0      0   \n",
       "\n",
       "    0.3_x   2  0.4_x  0_y  0.1_y  0.2_y  0.3_y  0.4_y  \n",
       "0       0   1      0  0.0    0.0    0.0    0.0    0.0  \n",
       "1       0   2      0  0.0    0.0    0.0    0.0    0.0  \n",
       "2       0   3      0  0.0    0.0    0.0    0.0    0.0  \n",
       "3       0   4      0  0.0    0.0    0.0    0.0    0.0  \n",
       "4       0   5      0  0.0    0.0    0.0    0.0    0.0  \n",
       "5       0   6      0  0.0    0.0    0.0    0.0    0.0  \n",
       "6       0   7      0  0.0    0.0    0.0    0.0    0.0  \n",
       "7       0   8      0  0.0    0.0    0.0    0.0    0.0  \n",
       "8       0   9      0  0.0    0.0    0.0    0.0    0.0  \n",
       "9       0   9      0  0.0    0.0    0.0    0.0    0.0  \n",
       "10      0   0      0  0.0    0.0    0.0    0.0    0.0  \n",
       "11      0   1      0  0.0    0.0    0.0    0.0    0.0  \n",
       "12      0   2      0  0.0    0.0    0.0    0.0    0.0  \n",
       "13      0   3      0  0.0    0.0    0.0    0.0    0.0  \n",
       "14      0   4      0  0.0    0.0    0.0    0.0    0.0  \n",
       "15      0   5      0  0.0    0.0    0.0    0.0    0.0  \n",
       "16      0   6      0  0.0    0.0    0.0    0.0    0.0  \n",
       "17      0   7      0  0.0    0.0    0.0    0.0    0.0  \n",
       "18      0   9      0  0.0    0.0    0.0    0.0    0.0  \n",
       "19      0  10      0  0.0    0.0    0.0    0.0    0.0  \n",
       "20      0  11      0  0.0    0.0    0.0    0.0    0.0  \n",
       "21      0  12      0  0.0    0.0    0.0    0.0    0.0  \n",
       "22      0  14      0  0.0    0.0    0.0    0.0    0.0  \n",
       "23      0  16      0  0.0    0.0    0.0    0.0    0.0  \n",
       "24      0  18      0  0.0    0.0    0.0    0.0    0.0  \n",
       "25      0  20      0  0.0    0.0    0.0    0.0    0.0  \n",
       "26      0  21      0  0.0    0.0    0.0    0.0    0.0  \n",
       "27      0  22      0  0.0    0.0    0.0    0.0    0.0  \n",
       "28      0  23      0  0.0    0.0    0.0    0.0    0.0  \n",
       "29      0  25      0  0.0    0.0    0.0    0.0    0.0  \n",
       "30      0  26      0  0.0    0.0    0.0    0.0    0.0  \n",
       "31      0  27      0  0.0    0.0    0.0    0.0    0.0  \n",
       "32      0  28      0  0.0    0.0    0.0    0.0    0.0  \n",
       "33      0  29      0  0.0    0.0    0.0    0.0    0.0  \n",
       "34      0  29      0  0.0    0.0    0.0    0.0    0.0  \n",
       "35      0  29      1  0.0    0.0    0.0    0.0    0.0  \n",
       "36      0  29      1  0.0    0.0    0.0    0.0    0.0  \n",
       "37      0  31      1  0.0    0.0    0.0    0.0    0.0  \n",
       "38      0  52      1  0.0    0.0    0.0    1.0    0.0  \n",
       "39      1   0      1  0.0    0.0    0.0    0.0    0.0  \n",
       "40      1   0      1  0.0    0.0    0.0    0.0    0.0  \n",
       "41      0   1      0  0.0    0.0    0.0    0.0    0.0  \n",
       "42      0   0      0  0.0    0.0    0.0    0.0    0.0  \n",
       "43      0   0      0  0.0    0.0    0.0    0.0    0.0  \n",
       "44      0   1      0  0.0    0.0    0.0    0.0    0.0  \n",
       "45      0   2      0  0.0    0.0    0.0    0.0    0.0  \n",
       "46      0   3      0  0.0    0.0    0.0    0.0    0.0  \n",
       "47      0   1      0  0.0    0.0    0.0    0.0    0.0  \n",
       "48      0   2      0  0.0    0.0    0.0    0.0    0.0  \n",
       "49      0   0      0  0.0    0.0    0.0    0.0    0.0  \n",
       "50      0   1      0  0.0    0.0    0.0    0.0    0.0  \n",
       "51      0   0      0  0.0    0.0    0.0    0.0    0.0  "
      ],
      "text/html": "<div>\n<style scoped>\n    .dataframe tbody tr th:only-of-type {\n        vertical-align: middle;\n    }\n\n    .dataframe tbody tr th {\n        vertical-align: top;\n    }\n\n    .dataframe thead th {\n        text-align: right;\n    }\n</style>\n<table border=\"1\" class=\"dataframe\">\n  <thead>\n    <tr style=\"text-align: right;\">\n      <th></th>\n      <th>index</th>\n      <th>880551</th>\n      <th>Simbolo_di_copyright</th>\n      <th>2012-03</th>\n      <th>0_x</th>\n      <th>0.1_x</th>\n      <th>0.2_x</th>\n      <th>0.3_x</th>\n      <th>2</th>\n      <th>0.4_x</th>\n      <th>0_y</th>\n      <th>0.1_y</th>\n      <th>0.2_y</th>\n      <th>0.3_y</th>\n      <th>0.4_y</th>\n    </tr>\n  </thead>\n  <tbody>\n    <tr>\n      <th>0</th>\n      <td>0</td>\n      <td>2166179</td>\n      <td>Simbolo_di_marchio</td>\n      <td>2016-01</td>\n      <td>0</td>\n      <td>0</td>\n      <td>0</td>\n      <td>0</td>\n      <td>1</td>\n      <td>0</td>\n      <td>0.0</td>\n      <td>0.0</td>\n      <td>0.0</td>\n      <td>0.0</td>\n      <td>0.0</td>\n    </tr>\n    <tr>\n      <th>1</th>\n      <td>1</td>\n      <td>2166179</td>\n      <td>Simbolo_di_marchio</td>\n      <td>2016-09</td>\n      <td>0</td>\n      <td>0</td>\n      <td>0</td>\n      <td>0</td>\n      <td>2</td>\n      <td>0</td>\n      <td>0.0</td>\n      <td>0.0</td>\n      <td>0.0</td>\n      <td>0.0</td>\n      <td>0.0</td>\n    </tr>\n    <tr>\n      <th>2</th>\n      <td>2</td>\n      <td>2166179</td>\n      <td>Simbolo_di_marchio</td>\n      <td>2016-11</td>\n      <td>0</td>\n      <td>0</td>\n      <td>0</td>\n      <td>0</td>\n      <td>3</td>\n      <td>0</td>\n      <td>0.0</td>\n      <td>0.0</td>\n      <td>0.0</td>\n      <td>0.0</td>\n      <td>0.0</td>\n    </tr>\n    <tr>\n      <th>3</th>\n      <td>3</td>\n      <td>2166179</td>\n      <td>Simbolo_di_marchio</td>\n      <td>2017-04</td>\n      <td>0</td>\n      <td>0</td>\n      <td>0</td>\n      <td>0</td>\n      <td>4</td>\n      <td>0</td>\n      <td>0.0</td>\n      <td>0.0</td>\n      <td>0.0</td>\n      <td>0.0</td>\n      <td>0.0</td>\n    </tr>\n    <tr>\n      <th>4</th>\n      <td>4</td>\n      <td>2166179</td>\n      <td>Simbolo_di_marchio</td>\n      <td>2017-05</td>\n      <td>0</td>\n      <td>0</td>\n      <td>0</td>\n      <td>0</td>\n      <td>5</td>\n      <td>0</td>\n      <td>0.0</td>\n      <td>0.0</td>\n      <td>0.0</td>\n      <td>0.0</td>\n      <td>0.0</td>\n    </tr>\n    <tr>\n      <th>5</th>\n      <td>5</td>\n      <td>2166179</td>\n      <td>Simbolo_di_marchio</td>\n      <td>2017-12</td>\n      <td>0</td>\n      <td>0</td>\n      <td>0</td>\n      <td>0</td>\n      <td>6</td>\n      <td>0</td>\n      <td>0.0</td>\n      <td>0.0</td>\n      <td>0.0</td>\n      <td>0.0</td>\n      <td>0.0</td>\n    </tr>\n    <tr>\n      <th>6</th>\n      <td>6</td>\n      <td>2166179</td>\n      <td>Simbolo_di_marchio</td>\n      <td>2018-03</td>\n      <td>0</td>\n      <td>0</td>\n      <td>0</td>\n      <td>0</td>\n      <td>7</td>\n      <td>0</td>\n      <td>0.0</td>\n      <td>0.0</td>\n      <td>0.0</td>\n      <td>0.0</td>\n      <td>0.0</td>\n    </tr>\n    <tr>\n      <th>7</th>\n      <td>7</td>\n      <td>2166179</td>\n      <td>Simbolo_di_marchio</td>\n      <td>2018-07</td>\n      <td>0</td>\n      <td>0</td>\n      <td>0</td>\n      <td>0</td>\n      <td>8</td>\n      <td>0</td>\n      <td>0.0</td>\n      <td>0.0</td>\n      <td>0.0</td>\n      <td>0.0</td>\n      <td>0.0</td>\n    </tr>\n    <tr>\n      <th>8</th>\n      <td>8</td>\n      <td>2166179</td>\n      <td>Simbolo_di_marchio</td>\n      <td>2019-07</td>\n      <td>0</td>\n      <td>0</td>\n      <td>0</td>\n      <td>0</td>\n      <td>9</td>\n      <td>0</td>\n      <td>0.0</td>\n      <td>0.0</td>\n      <td>0.0</td>\n      <td>0.0</td>\n      <td>0.0</td>\n    </tr>\n    <tr>\n      <th>9</th>\n      <td>9</td>\n      <td>2166179</td>\n      <td>Simbolo_di_marchio</td>\n      <td>2019-10</td>\n      <td>0</td>\n      <td>0</td>\n      <td>0</td>\n      <td>0</td>\n      <td>9</td>\n      <td>0</td>\n      <td>0.0</td>\n      <td>0.0</td>\n      <td>0.0</td>\n      <td>0.0</td>\n      <td>0.0</td>\n    </tr>\n    <tr>\n      <th>10</th>\n      <td>10</td>\n      <td>105152</td>\n      <td>Chiocciola_(segno)</td>\n      <td>2005-10</td>\n      <td>0</td>\n      <td>0</td>\n      <td>0</td>\n      <td>0</td>\n      <td>0</td>\n      <td>0</td>\n      <td>0.0</td>\n      <td>0.0</td>\n      <td>0.0</td>\n      <td>0.0</td>\n      <td>0.0</td>\n    </tr>\n    <tr>\n      <th>11</th>\n      <td>11</td>\n      <td>105152</td>\n      <td>Chiocciola_(segno)</td>\n      <td>2005-12</td>\n      <td>0</td>\n      <td>0</td>\n      <td>0</td>\n      <td>0</td>\n      <td>1</td>\n      <td>0</td>\n      <td>0.0</td>\n      <td>0.0</td>\n      <td>0.0</td>\n      <td>0.0</td>\n      <td>0.0</td>\n    </tr>\n    <tr>\n      <th>12</th>\n      <td>12</td>\n      <td>105152</td>\n      <td>Chiocciola_(segno)</td>\n      <td>2006-10</td>\n      <td>0</td>\n      <td>0</td>\n      <td>0</td>\n      <td>0</td>\n      <td>2</td>\n      <td>0</td>\n      <td>0.0</td>\n      <td>0.0</td>\n      <td>0.0</td>\n      <td>0.0</td>\n      <td>0.0</td>\n    </tr>\n    <tr>\n      <th>13</th>\n      <td>13</td>\n      <td>105152</td>\n      <td>Chiocciola_(segno)</td>\n      <td>2006-11</td>\n      <td>0</td>\n      <td>0</td>\n      <td>0</td>\n      <td>0</td>\n      <td>3</td>\n      <td>0</td>\n      <td>0.0</td>\n      <td>0.0</td>\n      <td>0.0</td>\n      <td>0.0</td>\n      <td>0.0</td>\n    </tr>\n    <tr>\n      <th>14</th>\n      <td>14</td>\n      <td>105152</td>\n      <td>Chiocciola_(segno)</td>\n      <td>2007-03</td>\n      <td>0</td>\n      <td>0</td>\n      <td>0</td>\n      <td>0</td>\n      <td>4</td>\n      <td>0</td>\n      <td>0.0</td>\n      <td>0.0</td>\n      <td>0.0</td>\n      <td>0.0</td>\n      <td>0.0</td>\n    </tr>\n    <tr>\n      <th>15</th>\n      <td>15</td>\n      <td>105152</td>\n      <td>Chiocciola_(segno)</td>\n      <td>2008-06</td>\n      <td>0</td>\n      <td>0</td>\n      <td>0</td>\n      <td>0</td>\n      <td>5</td>\n      <td>0</td>\n      <td>0.0</td>\n      <td>0.0</td>\n      <td>0.0</td>\n      <td>0.0</td>\n      <td>0.0</td>\n    </tr>\n    <tr>\n      <th>16</th>\n      <td>16</td>\n      <td>105152</td>\n      <td>Chiocciola_(segno)</td>\n      <td>2008-09</td>\n      <td>0</td>\n      <td>0</td>\n      <td>0</td>\n      <td>0</td>\n      <td>6</td>\n      <td>0</td>\n      <td>0.0</td>\n      <td>0.0</td>\n      <td>0.0</td>\n      <td>0.0</td>\n      <td>0.0</td>\n    </tr>\n    <tr>\n      <th>17</th>\n      <td>17</td>\n      <td>105152</td>\n      <td>Chiocciola_(segno)</td>\n      <td>2009-01</td>\n      <td>0</td>\n      <td>0</td>\n      <td>0</td>\n      <td>0</td>\n      <td>7</td>\n      <td>0</td>\n      <td>0.0</td>\n      <td>0.0</td>\n      <td>0.0</td>\n      <td>0.0</td>\n      <td>0.0</td>\n    </tr>\n    <tr>\n      <th>18</th>\n      <td>18</td>\n      <td>105152</td>\n      <td>Chiocciola_(segno)</td>\n      <td>2009-02</td>\n      <td>0</td>\n      <td>0</td>\n      <td>0</td>\n      <td>0</td>\n      <td>9</td>\n      <td>0</td>\n      <td>0.0</td>\n      <td>0.0</td>\n      <td>0.0</td>\n      <td>0.0</td>\n      <td>0.0</td>\n    </tr>\n    <tr>\n      <th>19</th>\n      <td>19</td>\n      <td>105152</td>\n      <td>Chiocciola_(segno)</td>\n      <td>2009-07</td>\n      <td>0</td>\n      <td>0</td>\n      <td>0</td>\n      <td>0</td>\n      <td>10</td>\n      <td>0</td>\n      <td>0.0</td>\n      <td>0.0</td>\n      <td>0.0</td>\n      <td>0.0</td>\n      <td>0.0</td>\n    </tr>\n    <tr>\n      <th>20</th>\n      <td>20</td>\n      <td>105152</td>\n      <td>Chiocciola_(segno)</td>\n      <td>2009-09</td>\n      <td>0</td>\n      <td>0</td>\n      <td>0</td>\n      <td>0</td>\n      <td>11</td>\n      <td>0</td>\n      <td>0.0</td>\n      <td>0.0</td>\n      <td>0.0</td>\n      <td>0.0</td>\n      <td>0.0</td>\n    </tr>\n    <tr>\n      <th>21</th>\n      <td>21</td>\n      <td>105152</td>\n      <td>Chiocciola_(segno)</td>\n      <td>2010-01</td>\n      <td>0</td>\n      <td>0</td>\n      <td>0</td>\n      <td>0</td>\n      <td>12</td>\n      <td>0</td>\n      <td>0.0</td>\n      <td>0.0</td>\n      <td>0.0</td>\n      <td>0.0</td>\n      <td>0.0</td>\n    </tr>\n    <tr>\n      <th>22</th>\n      <td>22</td>\n      <td>105152</td>\n      <td>Chiocciola_(segno)</td>\n      <td>2010-02</td>\n      <td>0</td>\n      <td>0</td>\n      <td>0</td>\n      <td>0</td>\n      <td>14</td>\n      <td>0</td>\n      <td>0.0</td>\n      <td>0.0</td>\n      <td>0.0</td>\n      <td>0.0</td>\n      <td>0.0</td>\n    </tr>\n    <tr>\n      <th>23</th>\n      <td>23</td>\n      <td>105152</td>\n      <td>Chiocciola_(segno)</td>\n      <td>2010-03</td>\n      <td>0</td>\n      <td>0</td>\n      <td>0</td>\n      <td>0</td>\n      <td>16</td>\n      <td>0</td>\n      <td>0.0</td>\n      <td>0.0</td>\n      <td>0.0</td>\n      <td>0.0</td>\n      <td>0.0</td>\n    </tr>\n    <tr>\n      <th>24</th>\n      <td>24</td>\n      <td>105152</td>\n      <td>Chiocciola_(segno)</td>\n      <td>2010-09</td>\n      <td>0</td>\n      <td>0</td>\n      <td>0</td>\n      <td>0</td>\n      <td>18</td>\n      <td>0</td>\n      <td>0.0</td>\n      <td>0.0</td>\n      <td>0.0</td>\n      <td>0.0</td>\n      <td>0.0</td>\n    </tr>\n    <tr>\n      <th>25</th>\n      <td>25</td>\n      <td>105152</td>\n      <td>Chiocciola_(segno)</td>\n      <td>2010-12</td>\n      <td>0</td>\n      <td>0</td>\n      <td>0</td>\n      <td>0</td>\n      <td>20</td>\n      <td>0</td>\n      <td>0.0</td>\n      <td>0.0</td>\n      <td>0.0</td>\n      <td>0.0</td>\n      <td>0.0</td>\n    </tr>\n    <tr>\n      <th>26</th>\n      <td>26</td>\n      <td>105152</td>\n      <td>Chiocciola_(segno)</td>\n      <td>2011-02</td>\n      <td>0</td>\n      <td>0</td>\n      <td>0</td>\n      <td>0</td>\n      <td>21</td>\n      <td>0</td>\n      <td>0.0</td>\n      <td>0.0</td>\n      <td>0.0</td>\n      <td>0.0</td>\n      <td>0.0</td>\n    </tr>\n    <tr>\n      <th>27</th>\n      <td>27</td>\n      <td>105152</td>\n      <td>Chiocciola_(segno)</td>\n      <td>2011-11</td>\n      <td>0</td>\n      <td>0</td>\n      <td>0</td>\n      <td>0</td>\n      <td>22</td>\n      <td>0</td>\n      <td>0.0</td>\n      <td>0.0</td>\n      <td>0.0</td>\n      <td>0.0</td>\n      <td>0.0</td>\n    </tr>\n    <tr>\n      <th>28</th>\n      <td>28</td>\n      <td>105152</td>\n      <td>Chiocciola_(segno)</td>\n      <td>2012-01</td>\n      <td>0</td>\n      <td>0</td>\n      <td>0</td>\n      <td>0</td>\n      <td>23</td>\n      <td>0</td>\n      <td>0.0</td>\n      <td>0.0</td>\n      <td>0.0</td>\n      <td>0.0</td>\n      <td>0.0</td>\n    </tr>\n    <tr>\n      <th>29</th>\n      <td>29</td>\n      <td>105152</td>\n      <td>Chiocciola_(segno)</td>\n      <td>2012-04</td>\n      <td>0</td>\n      <td>0</td>\n      <td>0</td>\n      <td>0</td>\n      <td>25</td>\n      <td>0</td>\n      <td>0.0</td>\n      <td>0.0</td>\n      <td>0.0</td>\n      <td>0.0</td>\n      <td>0.0</td>\n    </tr>\n    <tr>\n      <th>30</th>\n      <td>30</td>\n      <td>105152</td>\n      <td>Chiocciola_(segno)</td>\n      <td>2012-06</td>\n      <td>0</td>\n      <td>0</td>\n      <td>0</td>\n      <td>0</td>\n      <td>26</td>\n      <td>0</td>\n      <td>0.0</td>\n      <td>0.0</td>\n      <td>0.0</td>\n      <td>0.0</td>\n      <td>0.0</td>\n    </tr>\n    <tr>\n      <th>31</th>\n      <td>31</td>\n      <td>105152</td>\n      <td>Chiocciola_(segno)</td>\n      <td>2012-11</td>\n      <td>0</td>\n      <td>0</td>\n      <td>0</td>\n      <td>0</td>\n      <td>27</td>\n      <td>0</td>\n      <td>0.0</td>\n      <td>0.0</td>\n      <td>0.0</td>\n      <td>0.0</td>\n      <td>0.0</td>\n    </tr>\n    <tr>\n      <th>32</th>\n      <td>32</td>\n      <td>105152</td>\n      <td>Chiocciola_(segno)</td>\n      <td>2013-05</td>\n      <td>0</td>\n      <td>0</td>\n      <td>0</td>\n      <td>0</td>\n      <td>28</td>\n      <td>0</td>\n      <td>0.0</td>\n      <td>0.0</td>\n      <td>0.0</td>\n      <td>0.0</td>\n      <td>0.0</td>\n    </tr>\n    <tr>\n      <th>33</th>\n      <td>33</td>\n      <td>105152</td>\n      <td>Chiocciola_(segno)</td>\n      <td>2014-01</td>\n      <td>0</td>\n      <td>0</td>\n      <td>0</td>\n      <td>0</td>\n      <td>29</td>\n      <td>0</td>\n      <td>0.0</td>\n      <td>0.0</td>\n      <td>0.0</td>\n      <td>0.0</td>\n      <td>0.0</td>\n    </tr>\n    <tr>\n      <th>34</th>\n      <td>34</td>\n      <td>105152</td>\n      <td>Chiocciola_(segno)</td>\n      <td>2014-07</td>\n      <td>0</td>\n      <td>0</td>\n      <td>0</td>\n      <td>0</td>\n      <td>29</td>\n      <td>0</td>\n      <td>0.0</td>\n      <td>0.0</td>\n      <td>0.0</td>\n      <td>0.0</td>\n      <td>0.0</td>\n    </tr>\n    <tr>\n      <th>35</th>\n      <td>35</td>\n      <td>105152</td>\n      <td>Chiocciola_(segno)</td>\n      <td>2014-08</td>\n      <td>0</td>\n      <td>1</td>\n      <td>0</td>\n      <td>0</td>\n      <td>29</td>\n      <td>1</td>\n      <td>0.0</td>\n      <td>0.0</td>\n      <td>0.0</td>\n      <td>0.0</td>\n      <td>0.0</td>\n    </tr>\n    <tr>\n      <th>36</th>\n      <td>36</td>\n      <td>105152</td>\n      <td>Chiocciola_(segno)</td>\n      <td>2014-12</td>\n      <td>0</td>\n      <td>1</td>\n      <td>0</td>\n      <td>0</td>\n      <td>29</td>\n      <td>1</td>\n      <td>0.0</td>\n      <td>0.0</td>\n      <td>0.0</td>\n      <td>0.0</td>\n      <td>0.0</td>\n    </tr>\n    <tr>\n      <th>37</th>\n      <td>37</td>\n      <td>105152</td>\n      <td>Chiocciola_(segno)</td>\n      <td>2015-02</td>\n      <td>0</td>\n      <td>1</td>\n      <td>0</td>\n      <td>0</td>\n      <td>31</td>\n      <td>1</td>\n      <td>0.0</td>\n      <td>0.0</td>\n      <td>0.0</td>\n      <td>0.0</td>\n      <td>0.0</td>\n    </tr>\n    <tr>\n      <th>38</th>\n      <td>38</td>\n      <td>105152</td>\n      <td>Chiocciola_(segno)</td>\n      <td>2016-03</td>\n      <td>0</td>\n      <td>1</td>\n      <td>0</td>\n      <td>0</td>\n      <td>52</td>\n      <td>1</td>\n      <td>0.0</td>\n      <td>0.0</td>\n      <td>0.0</td>\n      <td>1.0</td>\n      <td>0.0</td>\n    </tr>\n    <tr>\n      <th>39</th>\n      <td>39</td>\n      <td>8346468</td>\n      <td>@@@@@</td>\n      <td>2020-05</td>\n      <td>0</td>\n      <td>0</td>\n      <td>0</td>\n      <td>1</td>\n      <td>0</td>\n      <td>1</td>\n      <td>0.0</td>\n      <td>0.0</td>\n      <td>0.0</td>\n      <td>0.0</td>\n      <td>0.0</td>\n    </tr>\n    <tr>\n      <th>40</th>\n      <td>40</td>\n      <td>1204430</td>\n      <td>Simbolo_generico_di_valuta</td>\n      <td>2007-11</td>\n      <td>0</td>\n      <td>0</td>\n      <td>0</td>\n      <td>1</td>\n      <td>0</td>\n      <td>1</td>\n      <td>0.0</td>\n      <td>0.0</td>\n      <td>0.0</td>\n      <td>0.0</td>\n      <td>0.0</td>\n    </tr>\n    <tr>\n      <th>41</th>\n      <td>41</td>\n      <td>540650</td>\n      <td>$</td>\n      <td>2019-10</td>\n      <td>0</td>\n      <td>0</td>\n      <td>0</td>\n      <td>0</td>\n      <td>1</td>\n      <td>0</td>\n      <td>0.0</td>\n      <td>0.0</td>\n      <td>0.0</td>\n      <td>0.0</td>\n      <td>0.0</td>\n    </tr>\n    <tr>\n      <th>42</th>\n      <td>42</td>\n      <td>581877</td>\n      <td>¥</td>\n      <td>2007-04</td>\n      <td>0</td>\n      <td>0</td>\n      <td>0</td>\n      <td>0</td>\n      <td>0</td>\n      <td>0</td>\n      <td>0.0</td>\n      <td>0.0</td>\n      <td>0.0</td>\n      <td>0.0</td>\n      <td>0.0</td>\n    </tr>\n    <tr>\n      <th>43</th>\n      <td>43</td>\n      <td>581877</td>\n      <td>¥</td>\n      <td>2013-06</td>\n      <td>0</td>\n      <td>0</td>\n      <td>0</td>\n      <td>0</td>\n      <td>0</td>\n      <td>0</td>\n      <td>0.0</td>\n      <td>0.0</td>\n      <td>0.0</td>\n      <td>0.0</td>\n      <td>0.0</td>\n    </tr>\n    <tr>\n      <th>44</th>\n      <td>44</td>\n      <td>4083617</td>\n      <td>***</td>\n      <td>2018-05</td>\n      <td>0</td>\n      <td>0</td>\n      <td>0</td>\n      <td>0</td>\n      <td>1</td>\n      <td>0</td>\n      <td>0.0</td>\n      <td>0.0</td>\n      <td>0.0</td>\n      <td>0.0</td>\n      <td>0.0</td>\n    </tr>\n    <tr>\n      <th>45</th>\n      <td>45</td>\n      <td>4083617</td>\n      <td>***</td>\n      <td>2020-01</td>\n      <td>0</td>\n      <td>0</td>\n      <td>0</td>\n      <td>0</td>\n      <td>2</td>\n      <td>0</td>\n      <td>0.0</td>\n      <td>0.0</td>\n      <td>0.0</td>\n      <td>0.0</td>\n      <td>0.0</td>\n    </tr>\n    <tr>\n      <th>46</th>\n      <td>46</td>\n      <td>4083617</td>\n      <td>***</td>\n      <td>2020-10</td>\n      <td>0</td>\n      <td>0</td>\n      <td>0</td>\n      <td>0</td>\n      <td>3</td>\n      <td>0</td>\n      <td>0.0</td>\n      <td>0.0</td>\n      <td>0.0</td>\n      <td>0.0</td>\n      <td>0.0</td>\n    </tr>\n    <tr>\n      <th>47</th>\n      <td>47</td>\n      <td>2905387</td>\n      <td>\\</td>\n      <td>2015-02</td>\n      <td>0</td>\n      <td>0</td>\n      <td>0</td>\n      <td>0</td>\n      <td>1</td>\n      <td>0</td>\n      <td>0.0</td>\n      <td>0.0</td>\n      <td>0.0</td>\n      <td>0.0</td>\n      <td>0.0</td>\n    </tr>\n    <tr>\n      <th>48</th>\n      <td>48</td>\n      <td>2905387</td>\n      <td>\\</td>\n      <td>2020-02</td>\n      <td>0</td>\n      <td>0</td>\n      <td>0</td>\n      <td>0</td>\n      <td>2</td>\n      <td>0</td>\n      <td>0.0</td>\n      <td>0.0</td>\n      <td>0.0</td>\n      <td>0.0</td>\n      <td>0.0</td>\n    </tr>\n    <tr>\n      <th>49</th>\n      <td>49</td>\n      <td>558194</td>\n      <td>+</td>\n      <td>2006-08</td>\n      <td>0</td>\n      <td>0</td>\n      <td>0</td>\n      <td>0</td>\n      <td>0</td>\n      <td>0</td>\n      <td>0.0</td>\n      <td>0.0</td>\n      <td>0.0</td>\n      <td>0.0</td>\n      <td>0.0</td>\n    </tr>\n    <tr>\n      <th>50</th>\n      <td>50</td>\n      <td>558194</td>\n      <td>+</td>\n      <td>2014-09</td>\n      <td>0</td>\n      <td>0</td>\n      <td>0</td>\n      <td>0</td>\n      <td>1</td>\n      <td>0</td>\n      <td>0.0</td>\n      <td>0.0</td>\n      <td>0.0</td>\n      <td>0.0</td>\n      <td>0.0</td>\n    </tr>\n    <tr>\n      <th>51</th>\n      <td>51</td>\n      <td>1397121</td>\n      <td>Ʃ</td>\n      <td>2008-08</td>\n      <td>0</td>\n      <td>0</td>\n      <td>0</td>\n      <td>0</td>\n      <td>0</td>\n      <td>0</td>\n      <td>0.0</td>\n      <td>0.0</td>\n      <td>0.0</td>\n      <td>0.0</td>\n      <td>0.0</td>\n    </tr>\n  </tbody>\n</table>\n</div>"
     },
     "metadata": {},
     "execution_count": 16
    }
   ],
   "source": [
    "merged_df"
   ]
  },
  {
   "cell_type": "code",
   "execution_count": 17,
   "metadata": {},
   "outputs": [
    {
     "output_type": "execute_result",
     "data": {
      "text/plain": [
       "     880551        Simbolo_di_copyright  2012-03  0  0.1  0.2  0.3   2  0.4\n",
       "0   2166179          Simbolo_di_marchio  2016-01  0    0    0    0   1    0\n",
       "1   2166179          Simbolo_di_marchio  2016-09  0    0    0    0   2    0\n",
       "2   2166179          Simbolo_di_marchio  2016-11  0    0    0    0   3    0\n",
       "3   2166179          Simbolo_di_marchio  2017-04  0    0    0    0   4    0\n",
       "4   2166179          Simbolo_di_marchio  2017-05  0    0    0    0   5    0\n",
       "5   2166179          Simbolo_di_marchio  2017-12  0    0    0    0   6    0\n",
       "6   2166179          Simbolo_di_marchio  2018-03  0    0    0    0   7    0\n",
       "7   2166179          Simbolo_di_marchio  2018-07  0    0    0    0   8    0\n",
       "8   2166179          Simbolo_di_marchio  2019-07  0    0    0    0   9    0\n",
       "9   2166179          Simbolo_di_marchio  2019-10  0    0    0    0   9    0\n",
       "10   105152          Chiocciola_(segno)  2005-10  0    0    0    0   0    0\n",
       "11   105152          Chiocciola_(segno)  2005-12  0    0    0    0   1    0\n",
       "12   105152          Chiocciola_(segno)  2006-10  0    0    0    0   2    0\n",
       "13   105152          Chiocciola_(segno)  2006-11  0    0    0    0   3    0\n",
       "14   105152          Chiocciola_(segno)  2007-03  0    0    0    0   4    0\n",
       "15   105152          Chiocciola_(segno)  2008-06  0    0    0    0   5    0\n",
       "16   105152          Chiocciola_(segno)  2008-09  0    0    0    0   6    0\n",
       "17   105152          Chiocciola_(segno)  2009-01  0    0    0    0   7    0\n",
       "18   105152          Chiocciola_(segno)  2009-02  0    0    0    0   9    0\n",
       "19   105152          Chiocciola_(segno)  2009-07  0    0    0    0  10    0\n",
       "20   105152          Chiocciola_(segno)  2009-09  0    0    0    0  11    0\n",
       "21   105152          Chiocciola_(segno)  2010-01  0    0    0    0  12    0\n",
       "22   105152          Chiocciola_(segno)  2010-02  0    0    0    0  14    0\n",
       "23   105152          Chiocciola_(segno)  2010-03  0    0    0    0  16    0\n",
       "24   105152          Chiocciola_(segno)  2010-09  0    0    0    0  18    0\n",
       "25   105152          Chiocciola_(segno)  2010-12  0    0    0    0  20    0\n",
       "26   105152          Chiocciola_(segno)  2011-02  0    0    0    0  21    0\n",
       "27   105152          Chiocciola_(segno)  2011-11  0    0    0    0  22    0\n",
       "28   105152          Chiocciola_(segno)  2012-01  0    0    0    0  23    0\n",
       "29   105152          Chiocciola_(segno)  2012-04  0    0    0    0  25    0\n",
       "30   105152          Chiocciola_(segno)  2012-06  0    0    0    0  26    0\n",
       "31   105152          Chiocciola_(segno)  2012-11  0    0    0    0  27    0\n",
       "32   105152          Chiocciola_(segno)  2013-05  0    0    0    0  28    0\n",
       "33   105152          Chiocciola_(segno)  2014-01  0    0    0    0  29    0\n",
       "34   105152          Chiocciola_(segno)  2014-07  0    0    0    0  29    0\n",
       "35   105152          Chiocciola_(segno)  2014-08  0    1    0    0  29    1\n",
       "36   105152          Chiocciola_(segno)  2014-12  0    1    0    0  29    1\n",
       "37   105152          Chiocciola_(segno)  2015-02  0    1    0    0  31    1\n",
       "38   105152          Chiocciola_(segno)  2016-03  0    1    0    0  52    1\n",
       "39  8346468                       @@@@@  2020-05  0    0    0    1   0    1\n",
       "40  1204430  Simbolo_generico_di_valuta  2007-11  0    0    0    1   0    1\n",
       "41   540650                           $  2019-10  0    0    0    0   1    0\n",
       "42   581877                           ¥  2007-04  0    0    0    0   0    0\n",
       "43   581877                           ¥  2013-06  0    0    0    0   0    0\n",
       "44  4083617                         ***  2018-05  0    0    0    0   1    0\n",
       "45  4083617                         ***  2020-01  0    0    0    0   2    0\n",
       "46  4083617                         ***  2020-10  0    0    0    0   3    0\n",
       "47  2905387                           \\  2015-02  0    0    0    0   1    0\n",
       "48  2905387                           \\  2020-02  0    0    0    0   2    0\n",
       "49   558194                           +  2006-08  0    0    0    0   0    0\n",
       "50   558194                           +  2014-09  0    0    0    0   1    0\n",
       "51  1397121                           Ʃ  2008-08  0    0    0    0   0    0"
      ],
      "text/html": "<div>\n<style scoped>\n    .dataframe tbody tr th:only-of-type {\n        vertical-align: middle;\n    }\n\n    .dataframe tbody tr th {\n        vertical-align: top;\n    }\n\n    .dataframe thead th {\n        text-align: right;\n    }\n</style>\n<table border=\"1\" class=\"dataframe\">\n  <thead>\n    <tr style=\"text-align: right;\">\n      <th></th>\n      <th>880551</th>\n      <th>Simbolo_di_copyright</th>\n      <th>2012-03</th>\n      <th>0</th>\n      <th>0.1</th>\n      <th>0.2</th>\n      <th>0.3</th>\n      <th>2</th>\n      <th>0.4</th>\n    </tr>\n  </thead>\n  <tbody>\n    <tr>\n      <th>0</th>\n      <td>2166179</td>\n      <td>Simbolo_di_marchio</td>\n      <td>2016-01</td>\n      <td>0</td>\n      <td>0</td>\n      <td>0</td>\n      <td>0</td>\n      <td>1</td>\n      <td>0</td>\n    </tr>\n    <tr>\n      <th>1</th>\n      <td>2166179</td>\n      <td>Simbolo_di_marchio</td>\n      <td>2016-09</td>\n      <td>0</td>\n      <td>0</td>\n      <td>0</td>\n      <td>0</td>\n      <td>2</td>\n      <td>0</td>\n    </tr>\n    <tr>\n      <th>2</th>\n      <td>2166179</td>\n      <td>Simbolo_di_marchio</td>\n      <td>2016-11</td>\n      <td>0</td>\n      <td>0</td>\n      <td>0</td>\n      <td>0</td>\n      <td>3</td>\n      <td>0</td>\n    </tr>\n    <tr>\n      <th>3</th>\n      <td>2166179</td>\n      <td>Simbolo_di_marchio</td>\n      <td>2017-04</td>\n      <td>0</td>\n      <td>0</td>\n      <td>0</td>\n      <td>0</td>\n      <td>4</td>\n      <td>0</td>\n    </tr>\n    <tr>\n      <th>4</th>\n      <td>2166179</td>\n      <td>Simbolo_di_marchio</td>\n      <td>2017-05</td>\n      <td>0</td>\n      <td>0</td>\n      <td>0</td>\n      <td>0</td>\n      <td>5</td>\n      <td>0</td>\n    </tr>\n    <tr>\n      <th>5</th>\n      <td>2166179</td>\n      <td>Simbolo_di_marchio</td>\n      <td>2017-12</td>\n      <td>0</td>\n      <td>0</td>\n      <td>0</td>\n      <td>0</td>\n      <td>6</td>\n      <td>0</td>\n    </tr>\n    <tr>\n      <th>6</th>\n      <td>2166179</td>\n      <td>Simbolo_di_marchio</td>\n      <td>2018-03</td>\n      <td>0</td>\n      <td>0</td>\n      <td>0</td>\n      <td>0</td>\n      <td>7</td>\n      <td>0</td>\n    </tr>\n    <tr>\n      <th>7</th>\n      <td>2166179</td>\n      <td>Simbolo_di_marchio</td>\n      <td>2018-07</td>\n      <td>0</td>\n      <td>0</td>\n      <td>0</td>\n      <td>0</td>\n      <td>8</td>\n      <td>0</td>\n    </tr>\n    <tr>\n      <th>8</th>\n      <td>2166179</td>\n      <td>Simbolo_di_marchio</td>\n      <td>2019-07</td>\n      <td>0</td>\n      <td>0</td>\n      <td>0</td>\n      <td>0</td>\n      <td>9</td>\n      <td>0</td>\n    </tr>\n    <tr>\n      <th>9</th>\n      <td>2166179</td>\n      <td>Simbolo_di_marchio</td>\n      <td>2019-10</td>\n      <td>0</td>\n      <td>0</td>\n      <td>0</td>\n      <td>0</td>\n      <td>9</td>\n      <td>0</td>\n    </tr>\n    <tr>\n      <th>10</th>\n      <td>105152</td>\n      <td>Chiocciola_(segno)</td>\n      <td>2005-10</td>\n      <td>0</td>\n      <td>0</td>\n      <td>0</td>\n      <td>0</td>\n      <td>0</td>\n      <td>0</td>\n    </tr>\n    <tr>\n      <th>11</th>\n      <td>105152</td>\n      <td>Chiocciola_(segno)</td>\n      <td>2005-12</td>\n      <td>0</td>\n      <td>0</td>\n      <td>0</td>\n      <td>0</td>\n      <td>1</td>\n      <td>0</td>\n    </tr>\n    <tr>\n      <th>12</th>\n      <td>105152</td>\n      <td>Chiocciola_(segno)</td>\n      <td>2006-10</td>\n      <td>0</td>\n      <td>0</td>\n      <td>0</td>\n      <td>0</td>\n      <td>2</td>\n      <td>0</td>\n    </tr>\n    <tr>\n      <th>13</th>\n      <td>105152</td>\n      <td>Chiocciola_(segno)</td>\n      <td>2006-11</td>\n      <td>0</td>\n      <td>0</td>\n      <td>0</td>\n      <td>0</td>\n      <td>3</td>\n      <td>0</td>\n    </tr>\n    <tr>\n      <th>14</th>\n      <td>105152</td>\n      <td>Chiocciola_(segno)</td>\n      <td>2007-03</td>\n      <td>0</td>\n      <td>0</td>\n      <td>0</td>\n      <td>0</td>\n      <td>4</td>\n      <td>0</td>\n    </tr>\n    <tr>\n      <th>15</th>\n      <td>105152</td>\n      <td>Chiocciola_(segno)</td>\n      <td>2008-06</td>\n      <td>0</td>\n      <td>0</td>\n      <td>0</td>\n      <td>0</td>\n      <td>5</td>\n      <td>0</td>\n    </tr>\n    <tr>\n      <th>16</th>\n      <td>105152</td>\n      <td>Chiocciola_(segno)</td>\n      <td>2008-09</td>\n      <td>0</td>\n      <td>0</td>\n      <td>0</td>\n      <td>0</td>\n      <td>6</td>\n      <td>0</td>\n    </tr>\n    <tr>\n      <th>17</th>\n      <td>105152</td>\n      <td>Chiocciola_(segno)</td>\n      <td>2009-01</td>\n      <td>0</td>\n      <td>0</td>\n      <td>0</td>\n      <td>0</td>\n      <td>7</td>\n      <td>0</td>\n    </tr>\n    <tr>\n      <th>18</th>\n      <td>105152</td>\n      <td>Chiocciola_(segno)</td>\n      <td>2009-02</td>\n      <td>0</td>\n      <td>0</td>\n      <td>0</td>\n      <td>0</td>\n      <td>9</td>\n      <td>0</td>\n    </tr>\n    <tr>\n      <th>19</th>\n      <td>105152</td>\n      <td>Chiocciola_(segno)</td>\n      <td>2009-07</td>\n      <td>0</td>\n      <td>0</td>\n      <td>0</td>\n      <td>0</td>\n      <td>10</td>\n      <td>0</td>\n    </tr>\n    <tr>\n      <th>20</th>\n      <td>105152</td>\n      <td>Chiocciola_(segno)</td>\n      <td>2009-09</td>\n      <td>0</td>\n      <td>0</td>\n      <td>0</td>\n      <td>0</td>\n      <td>11</td>\n      <td>0</td>\n    </tr>\n    <tr>\n      <th>21</th>\n      <td>105152</td>\n      <td>Chiocciola_(segno)</td>\n      <td>2010-01</td>\n      <td>0</td>\n      <td>0</td>\n      <td>0</td>\n      <td>0</td>\n      <td>12</td>\n      <td>0</td>\n    </tr>\n    <tr>\n      <th>22</th>\n      <td>105152</td>\n      <td>Chiocciola_(segno)</td>\n      <td>2010-02</td>\n      <td>0</td>\n      <td>0</td>\n      <td>0</td>\n      <td>0</td>\n      <td>14</td>\n      <td>0</td>\n    </tr>\n    <tr>\n      <th>23</th>\n      <td>105152</td>\n      <td>Chiocciola_(segno)</td>\n      <td>2010-03</td>\n      <td>0</td>\n      <td>0</td>\n      <td>0</td>\n      <td>0</td>\n      <td>16</td>\n      <td>0</td>\n    </tr>\n    <tr>\n      <th>24</th>\n      <td>105152</td>\n      <td>Chiocciola_(segno)</td>\n      <td>2010-09</td>\n      <td>0</td>\n      <td>0</td>\n      <td>0</td>\n      <td>0</td>\n      <td>18</td>\n      <td>0</td>\n    </tr>\n    <tr>\n      <th>25</th>\n      <td>105152</td>\n      <td>Chiocciola_(segno)</td>\n      <td>2010-12</td>\n      <td>0</td>\n      <td>0</td>\n      <td>0</td>\n      <td>0</td>\n      <td>20</td>\n      <td>0</td>\n    </tr>\n    <tr>\n      <th>26</th>\n      <td>105152</td>\n      <td>Chiocciola_(segno)</td>\n      <td>2011-02</td>\n      <td>0</td>\n      <td>0</td>\n      <td>0</td>\n      <td>0</td>\n      <td>21</td>\n      <td>0</td>\n    </tr>\n    <tr>\n      <th>27</th>\n      <td>105152</td>\n      <td>Chiocciola_(segno)</td>\n      <td>2011-11</td>\n      <td>0</td>\n      <td>0</td>\n      <td>0</td>\n      <td>0</td>\n      <td>22</td>\n      <td>0</td>\n    </tr>\n    <tr>\n      <th>28</th>\n      <td>105152</td>\n      <td>Chiocciola_(segno)</td>\n      <td>2012-01</td>\n      <td>0</td>\n      <td>0</td>\n      <td>0</td>\n      <td>0</td>\n      <td>23</td>\n      <td>0</td>\n    </tr>\n    <tr>\n      <th>29</th>\n      <td>105152</td>\n      <td>Chiocciola_(segno)</td>\n      <td>2012-04</td>\n      <td>0</td>\n      <td>0</td>\n      <td>0</td>\n      <td>0</td>\n      <td>25</td>\n      <td>0</td>\n    </tr>\n    <tr>\n      <th>30</th>\n      <td>105152</td>\n      <td>Chiocciola_(segno)</td>\n      <td>2012-06</td>\n      <td>0</td>\n      <td>0</td>\n      <td>0</td>\n      <td>0</td>\n      <td>26</td>\n      <td>0</td>\n    </tr>\n    <tr>\n      <th>31</th>\n      <td>105152</td>\n      <td>Chiocciola_(segno)</td>\n      <td>2012-11</td>\n      <td>0</td>\n      <td>0</td>\n      <td>0</td>\n      <td>0</td>\n      <td>27</td>\n      <td>0</td>\n    </tr>\n    <tr>\n      <th>32</th>\n      <td>105152</td>\n      <td>Chiocciola_(segno)</td>\n      <td>2013-05</td>\n      <td>0</td>\n      <td>0</td>\n      <td>0</td>\n      <td>0</td>\n      <td>28</td>\n      <td>0</td>\n    </tr>\n    <tr>\n      <th>33</th>\n      <td>105152</td>\n      <td>Chiocciola_(segno)</td>\n      <td>2014-01</td>\n      <td>0</td>\n      <td>0</td>\n      <td>0</td>\n      <td>0</td>\n      <td>29</td>\n      <td>0</td>\n    </tr>\n    <tr>\n      <th>34</th>\n      <td>105152</td>\n      <td>Chiocciola_(segno)</td>\n      <td>2014-07</td>\n      <td>0</td>\n      <td>0</td>\n      <td>0</td>\n      <td>0</td>\n      <td>29</td>\n      <td>0</td>\n    </tr>\n    <tr>\n      <th>35</th>\n      <td>105152</td>\n      <td>Chiocciola_(segno)</td>\n      <td>2014-08</td>\n      <td>0</td>\n      <td>1</td>\n      <td>0</td>\n      <td>0</td>\n      <td>29</td>\n      <td>1</td>\n    </tr>\n    <tr>\n      <th>36</th>\n      <td>105152</td>\n      <td>Chiocciola_(segno)</td>\n      <td>2014-12</td>\n      <td>0</td>\n      <td>1</td>\n      <td>0</td>\n      <td>0</td>\n      <td>29</td>\n      <td>1</td>\n    </tr>\n    <tr>\n      <th>37</th>\n      <td>105152</td>\n      <td>Chiocciola_(segno)</td>\n      <td>2015-02</td>\n      <td>0</td>\n      <td>1</td>\n      <td>0</td>\n      <td>0</td>\n      <td>31</td>\n      <td>1</td>\n    </tr>\n    <tr>\n      <th>38</th>\n      <td>105152</td>\n      <td>Chiocciola_(segno)</td>\n      <td>2016-03</td>\n      <td>0</td>\n      <td>1</td>\n      <td>0</td>\n      <td>0</td>\n      <td>52</td>\n      <td>1</td>\n    </tr>\n    <tr>\n      <th>39</th>\n      <td>8346468</td>\n      <td>@@@@@</td>\n      <td>2020-05</td>\n      <td>0</td>\n      <td>0</td>\n      <td>0</td>\n      <td>1</td>\n      <td>0</td>\n      <td>1</td>\n    </tr>\n    <tr>\n      <th>40</th>\n      <td>1204430</td>\n      <td>Simbolo_generico_di_valuta</td>\n      <td>2007-11</td>\n      <td>0</td>\n      <td>0</td>\n      <td>0</td>\n      <td>1</td>\n      <td>0</td>\n      <td>1</td>\n    </tr>\n    <tr>\n      <th>41</th>\n      <td>540650</td>\n      <td>$</td>\n      <td>2019-10</td>\n      <td>0</td>\n      <td>0</td>\n      <td>0</td>\n      <td>0</td>\n      <td>1</td>\n      <td>0</td>\n    </tr>\n    <tr>\n      <th>42</th>\n      <td>581877</td>\n      <td>¥</td>\n      <td>2007-04</td>\n      <td>0</td>\n      <td>0</td>\n      <td>0</td>\n      <td>0</td>\n      <td>0</td>\n      <td>0</td>\n    </tr>\n    <tr>\n      <th>43</th>\n      <td>581877</td>\n      <td>¥</td>\n      <td>2013-06</td>\n      <td>0</td>\n      <td>0</td>\n      <td>0</td>\n      <td>0</td>\n      <td>0</td>\n      <td>0</td>\n    </tr>\n    <tr>\n      <th>44</th>\n      <td>4083617</td>\n      <td>***</td>\n      <td>2018-05</td>\n      <td>0</td>\n      <td>0</td>\n      <td>0</td>\n      <td>0</td>\n      <td>1</td>\n      <td>0</td>\n    </tr>\n    <tr>\n      <th>45</th>\n      <td>4083617</td>\n      <td>***</td>\n      <td>2020-01</td>\n      <td>0</td>\n      <td>0</td>\n      <td>0</td>\n      <td>0</td>\n      <td>2</td>\n      <td>0</td>\n    </tr>\n    <tr>\n      <th>46</th>\n      <td>4083617</td>\n      <td>***</td>\n      <td>2020-10</td>\n      <td>0</td>\n      <td>0</td>\n      <td>0</td>\n      <td>0</td>\n      <td>3</td>\n      <td>0</td>\n    </tr>\n    <tr>\n      <th>47</th>\n      <td>2905387</td>\n      <td>\\</td>\n      <td>2015-02</td>\n      <td>0</td>\n      <td>0</td>\n      <td>0</td>\n      <td>0</td>\n      <td>1</td>\n      <td>0</td>\n    </tr>\n    <tr>\n      <th>48</th>\n      <td>2905387</td>\n      <td>\\</td>\n      <td>2020-02</td>\n      <td>0</td>\n      <td>0</td>\n      <td>0</td>\n      <td>0</td>\n      <td>2</td>\n      <td>0</td>\n    </tr>\n    <tr>\n      <th>49</th>\n      <td>558194</td>\n      <td>+</td>\n      <td>2006-08</td>\n      <td>0</td>\n      <td>0</td>\n      <td>0</td>\n      <td>0</td>\n      <td>0</td>\n      <td>0</td>\n    </tr>\n    <tr>\n      <th>50</th>\n      <td>558194</td>\n      <td>+</td>\n      <td>2014-09</td>\n      <td>0</td>\n      <td>0</td>\n      <td>0</td>\n      <td>0</td>\n      <td>1</td>\n      <td>0</td>\n    </tr>\n    <tr>\n      <th>51</th>\n      <td>1397121</td>\n      <td>Ʃ</td>\n      <td>2008-08</td>\n      <td>0</td>\n      <td>0</td>\n      <td>0</td>\n      <td>0</td>\n      <td>0</td>\n      <td>0</td>\n    </tr>\n  </tbody>\n</table>\n</div>"
     },
     "metadata": {},
     "execution_count": 17
    }
   ],
   "source": [
    "rev_df"
   ]
  },
  {
   "cell_type": "code",
   "execution_count": 18,
   "metadata": {},
   "outputs": [
    {
     "output_type": "execute_result",
     "data": {
      "text/plain": [
       "     880551 Simbolo_di_copyright  2012-03  0  0.1  0.2  0.3  0.4\n",
       "0   2166179   Simbolo_di_marchio  2016-01  0    0    0    0    0\n",
       "1   2166179   Simbolo_di_marchio  2016-09  0    0    0    0    0\n",
       "2   2166179   Simbolo_di_marchio  2016-11  0    0    0    0    0\n",
       "3   2166179   Simbolo_di_marchio  2017-04  0    0    0    0    0\n",
       "4   2166179   Simbolo_di_marchio  2017-05  0    0    0    0    0\n",
       "..      ...                  ...      ... ..  ...  ...  ...  ...\n",
       "56  4944046                    ➜  2014-04  0    0    0    0    0\n",
       "57  2989205                    ⚃  2017-11  0    0    0    0    0\n",
       "58  2989206                    ⚄  2017-11  0    0    0    0    0\n",
       "59  2989207                    ⚅  2017-11  0    0    0    0    0\n",
       "60  2989207                    ⚅  2017-12  0    0    0    0    0\n",
       "\n",
       "[61 rows x 8 columns]"
      ],
      "text/html": "<div>\n<style scoped>\n    .dataframe tbody tr th:only-of-type {\n        vertical-align: middle;\n    }\n\n    .dataframe tbody tr th {\n        vertical-align: top;\n    }\n\n    .dataframe thead th {\n        text-align: right;\n    }\n</style>\n<table border=\"1\" class=\"dataframe\">\n  <thead>\n    <tr style=\"text-align: right;\">\n      <th></th>\n      <th>880551</th>\n      <th>Simbolo_di_copyright</th>\n      <th>2012-03</th>\n      <th>0</th>\n      <th>0.1</th>\n      <th>0.2</th>\n      <th>0.3</th>\n      <th>0.4</th>\n    </tr>\n  </thead>\n  <tbody>\n    <tr>\n      <th>0</th>\n      <td>2166179</td>\n      <td>Simbolo_di_marchio</td>\n      <td>2016-01</td>\n      <td>0</td>\n      <td>0</td>\n      <td>0</td>\n      <td>0</td>\n      <td>0</td>\n    </tr>\n    <tr>\n      <th>1</th>\n      <td>2166179</td>\n      <td>Simbolo_di_marchio</td>\n      <td>2016-09</td>\n      <td>0</td>\n      <td>0</td>\n      <td>0</td>\n      <td>0</td>\n      <td>0</td>\n    </tr>\n    <tr>\n      <th>2</th>\n      <td>2166179</td>\n      <td>Simbolo_di_marchio</td>\n      <td>2016-11</td>\n      <td>0</td>\n      <td>0</td>\n      <td>0</td>\n      <td>0</td>\n      <td>0</td>\n    </tr>\n    <tr>\n      <th>3</th>\n      <td>2166179</td>\n      <td>Simbolo_di_marchio</td>\n      <td>2017-04</td>\n      <td>0</td>\n      <td>0</td>\n      <td>0</td>\n      <td>0</td>\n      <td>0</td>\n    </tr>\n    <tr>\n      <th>4</th>\n      <td>2166179</td>\n      <td>Simbolo_di_marchio</td>\n      <td>2017-05</td>\n      <td>0</td>\n      <td>0</td>\n      <td>0</td>\n      <td>0</td>\n      <td>0</td>\n    </tr>\n    <tr>\n      <th>...</th>\n      <td>...</td>\n      <td>...</td>\n      <td>...</td>\n      <td>...</td>\n      <td>...</td>\n      <td>...</td>\n      <td>...</td>\n      <td>...</td>\n    </tr>\n    <tr>\n      <th>56</th>\n      <td>4944046</td>\n      <td>➜</td>\n      <td>2014-04</td>\n      <td>0</td>\n      <td>0</td>\n      <td>0</td>\n      <td>0</td>\n      <td>0</td>\n    </tr>\n    <tr>\n      <th>57</th>\n      <td>2989205</td>\n      <td>⚃</td>\n      <td>2017-11</td>\n      <td>0</td>\n      <td>0</td>\n      <td>0</td>\n      <td>0</td>\n      <td>0</td>\n    </tr>\n    <tr>\n      <th>58</th>\n      <td>2989206</td>\n      <td>⚄</td>\n      <td>2017-11</td>\n      <td>0</td>\n      <td>0</td>\n      <td>0</td>\n      <td>0</td>\n      <td>0</td>\n    </tr>\n    <tr>\n      <th>59</th>\n      <td>2989207</td>\n      <td>⚅</td>\n      <td>2017-11</td>\n      <td>0</td>\n      <td>0</td>\n      <td>0</td>\n      <td>0</td>\n      <td>0</td>\n    </tr>\n    <tr>\n      <th>60</th>\n      <td>2989207</td>\n      <td>⚅</td>\n      <td>2017-12</td>\n      <td>0</td>\n      <td>0</td>\n      <td>0</td>\n      <td>0</td>\n      <td>0</td>\n    </tr>\n  </tbody>\n</table>\n<p>61 rows × 8 columns</p>\n</div>"
     },
     "metadata": {},
     "execution_count": 18
    }
   ],
   "source": [
    "mut_df"
   ]
  },
  {
   "cell_type": "code",
   "execution_count": null,
   "metadata": {},
   "outputs": [],
   "source": []
  }
 ]
}